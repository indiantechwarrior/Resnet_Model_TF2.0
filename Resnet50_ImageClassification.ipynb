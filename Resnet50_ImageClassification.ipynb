{
  "nbformat": 4,
  "nbformat_minor": 0,
  "metadata": {
    "colab": {
      "name": "Resnet50-ImageClassification.ipynb",
      "provenance": [],
      "collapsed_sections": []
    },
    "kernelspec": {
      "name": "python3",
      "display_name": "Python 3"
    },
    "language_info": {
      "name": "python"
    }
  },
  "cells": [
    {
      "cell_type": "markdown",
      "source": [
        "## Train Resnet Model for Image classification on your own Dataset"
      ],
      "metadata": {
        "id": "Xeg-G_WNfBpB"
      }
    },
    {
      "cell_type": "code",
      "execution_count": null,
      "metadata": {
        "id": "Fga4M0LOX6kG"
      },
      "outputs": [],
      "source": [
        "!git clone https://github.com/indiantechwarrior/Resnet_Model_TF2.0"
      ]
    },
    {
      "cell_type": "code",
      "source": [
        "# Mount the Google Drive\n",
        "from google.colab import drive\n",
        "drive.mount('/content/drive')"
      ],
      "metadata": {
        "id": "hA6YXPLWNkBq"
      },
      "execution_count": null,
      "outputs": []
    },
    {
      "cell_type": "code",
      "source": [
        "import os\n",
        "os.chdir(\"/content/Resnet_Model_TF2.0/\")"
      ],
      "metadata": {
        "id": "ll8PJ2L7OyXQ"
      },
      "execution_count": 3,
      "outputs": []
    },
    {
      "cell_type": "code",
      "source": [
        "!unzip  /content/drive/My\\Drive/colabData/imageclassify/My_Dataset.zip\n",
        "# Post this just drag and drop all classes to \"original_dataset\" or you can use command \n",
        "# as mentioned below Step so that folder structure should look like,\n",
        "# |——original dataset\n",
        "#    |——class_name_0\n",
        "#    |——class_name_1\n",
        "#    |——class_name_2\n",
        "#    |——class_name_3"
      ],
      "metadata": {
        "id": "p6ZXuKOUNl21"
      },
      "execution_count": null,
      "outputs": []
    },
    {
      "cell_type": "markdown",
      "source": [
        "Note supported file types include, JPEG, PNG, BMP, if you have files in format of JPG, kindly convert them to JPEG"
      ],
      "metadata": {
        "id": "Serk5Y8tlVV2"
      }
    },
    {
      "cell_type": "code",
      "source": [
        "import os\n",
        "os.chdir(\"/content/Resnet_Model_TF2.0/My_Dataset\")"
      ],
      "metadata": {
        "id": "3pp4ERXFZJwr"
      },
      "execution_count": 6,
      "outputs": []
    },
    {
      "cell_type": "code",
      "source": [
        "!mv -v \"/content/Resnet_Model_TF2.0/My_Dataset/\" \"/content/Resnet_Model_TF2.0/original_dataset/\""
      ],
      "metadata": {
        "id": "DdGkwZmzZRyk"
      },
      "execution_count": null,
      "outputs": []
    },
    {
      "cell_type": "code",
      "source": [
        "import os\n",
        "os.chdir(\"/content/Resnet_Model_TF2.0/\")"
      ],
      "metadata": {
        "id": "YpSbwqO_aiLX"
      },
      "execution_count": 4,
      "outputs": []
    },
    {
      "cell_type": "code",
      "source": [
        "!python split_dataset.py"
      ],
      "metadata": {
        "id": "Mk7M9SSlSEKE"
      },
      "execution_count": null,
      "outputs": []
    },
    {
      "cell_type": "code",
      "source": [
        "!python train.py"
      ],
      "metadata": {
        "id": "qBqDmqQSO4tf"
      },
      "execution_count": null,
      "outputs": []
    },
    {
      "cell_type": "code",
      "source": [
        "!python evaluate.py"
      ],
      "metadata": {
        "id": "xQEZxbv7k5Fd"
      },
      "execution_count": null,
      "outputs": []
    },
    {
      "cell_type": "markdown",
      "source": [
        "## Image classification using Pre trained Resnet Model"
      ],
      "metadata": {
        "id": "c1drY3x2vm9H"
      }
    },
    {
      "cell_type": "code",
      "source": [
        "from keras.preprocessing.image import load_img\n",
        "from keras.preprocessing.image import img_to_array\n",
        "from tensorflow.keras.applications.resnet50 import preprocess_input\n",
        "from tensorflow.keras.applications.resnet50 import decode_predictions\n",
        "from tensorflow.keras.applications.resnet50 import ResNet50"
      ],
      "metadata": {
        "id": "O7anl4qCuuqJ"
      },
      "execution_count": 9,
      "outputs": []
    },
    {
      "cell_type": "code",
      "source": [
        "# load model\n",
        "model = ResNet50()\n",
        "# summarize the model\n",
        "model.summary()"
      ],
      "metadata": {
        "id": "za4NsHXLtPis"
      },
      "execution_count": null,
      "outputs": []
    },
    {
      "cell_type": "code",
      "source": [
        "image = load_img('IMG_1018.jpg', target_size=(224, 224))\n",
        "# convert the image pixels to a numpy array\n",
        "image = img_to_array(image)\n",
        "# reshape data for the model\n",
        "image = image.reshape((1, image.shape[0], image.shape[1], image.shape[2]))\n",
        "# prepare the image for the VGG model\n",
        "image = preprocess_input(image)"
      ],
      "metadata": {
        "id": "99GwSh43ueXu"
      },
      "execution_count": 11,
      "outputs": []
    },
    {
      "cell_type": "code",
      "source": [
        "# predict the probability across all output classes\n",
        "yhat = model.predict(image)\n",
        "# convert the probabilities to class labels\n",
        "label = decode_predictions(yhat)\n",
        "# retrieve the most likely result, e.g. highest probability\n",
        "label = label[0][0]\n",
        "# print the classification\n",
        "# print('%s (%.2f%%)' % (label[1], label[2]*100))\n"
      ],
      "metadata": {
        "colab": {
          "base_uri": "https://localhost:8080/"
        },
        "id": "a2axtO3fu6PQ",
        "outputId": "93191c40-1de1-4e23-c00e-7e0bef695578"
      },
      "execution_count": 13,
      "outputs": [
        {
          "output_type": "stream",
          "name": "stdout",
          "text": [
            "('n01622779', 'great_grey_owl', 0.99860114)\n"
          ]
        }
      ]
    }
  ]
}