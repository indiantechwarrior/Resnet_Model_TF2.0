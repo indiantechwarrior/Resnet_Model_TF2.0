{
  "nbformat": 4,
  "nbformat_minor": 0,
  "metadata": {
    "colab": {
      "name": "Resnet50-ImageClassification.ipynb",
      "provenance": [],
      "collapsed_sections": []
    },
    "kernelspec": {
      "name": "python3",
      "display_name": "Python 3"
    },
    "language_info": {
      "name": "python"
    }
  },
  "cells": [
    {
      "cell_type": "code",
      "execution_count": null,
      "metadata": {
        "id": "Fga4M0LOX6kG"
      },
      "outputs": [],
      "source": [
        "!git clone https://github.com/indiantechwarrior/Resnet_Model_TF2.0"
      ]
    },
    {
      "cell_type": "code",
      "source": [
        "# Mount the Google Drive\n",
        "from google.colab import drive\n",
        "drive.mount('/content/drive')"
      ],
      "metadata": {
        "id": "hA6YXPLWNkBq"
      },
      "execution_count": null,
      "outputs": []
    },
    {
      "cell_type": "code",
      "source": [
        "import os\n",
        "os.chdir(\"/content/Resnet_Model_TF2.0/\")"
      ],
      "metadata": {
        "id": "ll8PJ2L7OyXQ"
      },
      "execution_count": 3,
      "outputs": []
    },
    {
      "cell_type": "code",
      "source": [
        "!unzip  /content/drive/My\\Drive/colabData/imageclassify/My_Dataset.zip\n",
        "# Post this just drag and drop all classes to \"original_dataset\" or you can use command \n",
        "# as mentioned below Step so that folder structure should look like,\n",
        "# |——original dataset\n",
        "#    |——class_name_0\n",
        "#    |——class_name_1\n",
        "#    |——class_name_2\n",
        "#    |——class_name_3"
      ],
      "metadata": {
        "id": "p6ZXuKOUNl21"
      },
      "execution_count": null,
      "outputs": []
    },
    {
      "cell_type": "markdown",
      "source": [
        "Note supported file types include, JPEG, PNG, BMP, if you have files in format of JPG, kindly convert them to JPEG"
      ],
      "metadata": {
        "id": "Serk5Y8tlVV2"
      }
    },
    {
      "cell_type": "code",
      "source": [
        "import os\n",
        "os.chdir(\"/content/Resnet_Model_TF2.0/My_Dataset\")"
      ],
      "metadata": {
        "id": "3pp4ERXFZJwr"
      },
      "execution_count": 6,
      "outputs": []
    },
    {
      "cell_type": "code",
      "source": [
        "!mv -v \"/content/Resnet_Model_TF2.0/My_Dataset/\" \"/content/Resnet_Model_TF2.0/original_dataset/\""
      ],
      "metadata": {
        "id": "DdGkwZmzZRyk"
      },
      "execution_count": null,
      "outputs": []
    },
    {
      "cell_type": "code",
      "source": [
        "import os\n",
        "os.chdir(\"/content/Resnet_Model_TF2.0/\")"
      ],
      "metadata": {
        "id": "YpSbwqO_aiLX"
      },
      "execution_count": 11,
      "outputs": []
    },
    {
      "cell_type": "code",
      "source": [
        "!python split_dataset.py"
      ],
      "metadata": {
        "id": "Mk7M9SSlSEKE"
      },
      "execution_count": null,
      "outputs": []
    },
    {
      "cell_type": "code",
      "source": [
        "!python train.py"
      ],
      "metadata": {
        "id": "qBqDmqQSO4tf"
      },
      "execution_count": null,
      "outputs": []
    },
    {
      "cell_type": "code",
      "source": [
        "!python evaluate.py"
      ],
      "metadata": {
        "id": "xQEZxbv7k5Fd"
      },
      "execution_count": null,
      "outputs": []
    }
  ]
}